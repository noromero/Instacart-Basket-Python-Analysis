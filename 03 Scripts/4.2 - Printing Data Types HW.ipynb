{
 "cells": [
  {
   "cell_type": "markdown",
   "id": "73fd87f0",
   "metadata": {},
   "source": [
    "# Importing Libraries"
   ]
  },
  {
   "cell_type": "code",
   "execution_count": null,
   "id": "cbe2cead",
   "metadata": {},
   "outputs": [],
   "source": [
    "#Importing Libraries\n",
    "\n",
    "import pandas as pd\n",
    "import numpy as np\n",
    "import os"
   ]
  },
  {
   "cell_type": "markdown",
   "id": "b7071f5d",
   "metadata": {},
   "source": [
    "# Working with Python Data Types"
   ]
  },
  {
   "cell_type": "markdown",
   "id": "0cc92207",
   "metadata": {},
   "source": [
    "## Step 7"
   ]
  },
  {
   "cell_type": "code",
   "execution_count": 1,
   "id": "b3a0aa05",
   "metadata": {},
   "outputs": [
    {
     "name": "stdout",
     "output_type": "stream",
     "text": [
      "100\n"
     ]
    }
   ],
   "source": [
    "a = 10\n",
    "b = 90\n",
    "print(a+b)"
   ]
  },
  {
   "cell_type": "code",
   "execution_count": 2,
   "id": "d2d31c41",
   "metadata": {},
   "outputs": [
    {
     "name": "stdout",
     "output_type": "stream",
     "text": [
      "100.0\n"
     ]
    }
   ],
   "source": [
    "c = 20.0\n",
    "d = 80\n",
    "print(c+d)"
   ]
  },
  {
   "cell_type": "code",
   "execution_count": 3,
   "id": "e1cd5031",
   "metadata": {},
   "outputs": [
    {
     "name": "stdout",
     "output_type": "stream",
     "text": [
      "100.0\n"
     ]
    }
   ],
   "source": [
    "e = 30.0\n",
    "f = 70.0\n",
    "print(e+f)"
   ]
  },
  {
   "cell_type": "markdown",
   "id": "b7a03a1e",
   "metadata": {},
   "source": [
    "## Step 8"
   ]
  },
  {
   "cell_type": "code",
   "execution_count": 4,
   "id": "267d5d0e",
   "metadata": {},
   "outputs": [
    {
     "name": "stdout",
     "output_type": "stream",
     "text": [
      "2.0\n"
     ]
    }
   ],
   "source": [
    "g = 4.0\n",
    "h = 2.0\n",
    "print(g/h)"
   ]
  },
  {
   "cell_type": "code",
   "execution_count": 5,
   "id": "67202d09",
   "metadata": {},
   "outputs": [
    {
     "name": "stdout",
     "output_type": "stream",
     "text": [
      "4.0\n"
     ]
    }
   ],
   "source": [
    "i = 100.0\n",
    "j = 25.0\n",
    "print(i/j)"
   ]
  },
  {
   "cell_type": "markdown",
   "id": "8cbe3c0b",
   "metadata": {},
   "source": [
    "## Step 9"
   ]
  },
  {
   "cell_type": "code",
   "execution_count": 6,
   "id": "73865fb1",
   "metadata": {},
   "outputs": [
    {
     "name": "stdout",
     "output_type": "stream",
     "text": [
      "CareerFoundry\n"
     ]
    }
   ],
   "source": [
    "k = 'Career'\n",
    "l = 'Foundry'\n",
    "print(k+l)\n"
   ]
  },
  {
   "cell_type": "markdown",
   "id": "23bbd64a",
   "metadata": {},
   "source": [
    "## Step 10"
   ]
  },
  {
   "cell_type": "code",
   "execution_count": 9,
   "id": "62b359ee",
   "metadata": {},
   "outputs": [
    {
     "name": "stdout",
     "output_type": "stream",
     "text": [
      "Learning Python is so much fun! I am excited to use it in my everyday tasks.\n"
     ]
    }
   ],
   "source": [
    "m = \"Learning Python is so much fun!\"\n",
    "n = \"I am excited to use it in my everyday tasks.\"\n",
    "print(m + \" \" + n)"
   ]
  },
  {
   "cell_type": "markdown",
   "id": "a2468a70",
   "metadata": {},
   "source": [
    "## Bonus Task"
   ]
  },
  {
   "cell_type": "code",
   "execution_count": 12,
   "id": "903bd265",
   "metadata": {},
   "outputs": [
    {
     "name": "stdout",
     "output_type": "stream",
     "text": [
      "i will be employed as a Data Analyst by the end of this year!\n",
      "i will be employed as a Data Analyst by the end of this year!\n",
      "i will be employed as a Data Analyst by the end of this year!\n",
      "i will be employed as a Data Analyst by the end of this year!\n",
      "i will be employed as a Data Analyst by the end of this year!\n",
      "i will be employed as a Data Analyst by the end of this year!\n",
      "i will be employed as a Data Analyst by the end of this year!\n",
      "i will be employed as a Data Analyst by the end of this year!\n",
      "i will be employed as a Data Analyst by the end of this year!\n",
      "i will be employed as a Data Analyst by the end of this year!\n",
      "i will be employed as a Data Analyst by the end of this year!\n",
      "i will be employed as a Data Analyst by the end of this year!\n",
      "i will be employed as a Data Analyst by the end of this year!\n",
      "i will be employed as a Data Analyst by the end of this year!\n",
      "i will be employed as a Data Analyst by the end of this year!\n",
      "i will be employed as a Data Analyst by the end of this year!\n",
      "i will be employed as a Data Analyst by the end of this year!\n",
      "i will be employed as a Data Analyst by the end of this year!\n",
      "i will be employed as a Data Analyst by the end of this year!\n",
      "i will be employed as a Data Analyst by the end of this year!\n",
      "i will be employed as a Data Analyst by the end of this year!\n",
      "i will be employed as a Data Analyst by the end of this year!\n",
      "i will be employed as a Data Analyst by the end of this year!\n",
      "i will be employed as a Data Analyst by the end of this year!\n",
      "i will be employed as a Data Analyst by the end of this year!\n",
      "i will be employed as a Data Analyst by the end of this year!\n",
      "i will be employed as a Data Analyst by the end of this year!\n",
      "i will be employed as a Data Analyst by the end of this year!\n",
      "i will be employed as a Data Analyst by the end of this year!\n",
      "i will be employed as a Data Analyst by the end of this year!\n",
      "i will be employed as a Data Analyst by the end of this year!\n",
      "i will be employed as a Data Analyst by the end of this year!\n",
      "i will be employed as a Data Analyst by the end of this year!\n",
      "i will be employed as a Data Analyst by the end of this year!\n",
      "i will be employed as a Data Analyst by the end of this year!\n",
      "i will be employed as a Data Analyst by the end of this year!\n",
      "i will be employed as a Data Analyst by the end of this year!\n",
      "i will be employed as a Data Analyst by the end of this year!\n",
      "i will be employed as a Data Analyst by the end of this year!\n",
      "i will be employed as a Data Analyst by the end of this year!\n",
      "i will be employed as a Data Analyst by the end of this year!\n",
      "i will be employed as a Data Analyst by the end of this year!\n",
      "i will be employed as a Data Analyst by the end of this year!\n",
      "i will be employed as a Data Analyst by the end of this year!\n",
      "i will be employed as a Data Analyst by the end of this year!\n",
      "i will be employed as a Data Analyst by the end of this year!\n",
      "i will be employed as a Data Analyst by the end of this year!\n",
      "i will be employed as a Data Analyst by the end of this year!\n",
      "i will be employed as a Data Analyst by the end of this year!\n",
      "i will be employed as a Data Analyst by the end of this year!\n",
      "i will be employed as a Data Analyst by the end of this year!\n",
      "i will be employed as a Data Analyst by the end of this year!\n",
      "i will be employed as a Data Analyst by the end of this year!\n",
      "i will be employed as a Data Analyst by the end of this year!\n",
      "i will be employed as a Data Analyst by the end of this year!\n",
      "i will be employed as a Data Analyst by the end of this year!\n",
      "i will be employed as a Data Analyst by the end of this year!\n",
      "i will be employed as a Data Analyst by the end of this year!\n",
      "i will be employed as a Data Analyst by the end of this year!\n",
      "i will be employed as a Data Analyst by the end of this year!\n",
      "i will be employed as a Data Analyst by the end of this year!\n",
      "i will be employed as a Data Analyst by the end of this year!\n",
      "i will be employed as a Data Analyst by the end of this year!\n",
      "i will be employed as a Data Analyst by the end of this year!\n",
      "i will be employed as a Data Analyst by the end of this year!\n",
      "i will be employed as a Data Analyst by the end of this year!\n",
      "i will be employed as a Data Analyst by the end of this year!\n",
      "i will be employed as a Data Analyst by the end of this year!\n",
      "i will be employed as a Data Analyst by the end of this year!\n",
      "i will be employed as a Data Analyst by the end of this year!\n",
      "i will be employed as a Data Analyst by the end of this year!\n",
      "i will be employed as a Data Analyst by the end of this year!\n",
      "i will be employed as a Data Analyst by the end of this year!\n",
      "i will be employed as a Data Analyst by the end of this year!\n",
      "i will be employed as a Data Analyst by the end of this year!\n",
      "i will be employed as a Data Analyst by the end of this year!\n",
      "i will be employed as a Data Analyst by the end of this year!\n",
      "i will be employed as a Data Analyst by the end of this year!\n",
      "i will be employed as a Data Analyst by the end of this year!\n",
      "i will be employed as a Data Analyst by the end of this year!\n",
      "i will be employed as a Data Analyst by the end of this year!\n",
      "i will be employed as a Data Analyst by the end of this year!\n",
      "i will be employed as a Data Analyst by the end of this year!\n",
      "i will be employed as a Data Analyst by the end of this year!\n",
      "i will be employed as a Data Analyst by the end of this year!\n",
      "i will be employed as a Data Analyst by the end of this year!\n",
      "i will be employed as a Data Analyst by the end of this year!\n",
      "i will be employed as a Data Analyst by the end of this year!\n",
      "i will be employed as a Data Analyst by the end of this year!\n",
      "i will be employed as a Data Analyst by the end of this year!\n",
      "i will be employed as a Data Analyst by the end of this year!\n",
      "i will be employed as a Data Analyst by the end of this year!\n",
      "i will be employed as a Data Analyst by the end of this year!\n",
      "i will be employed as a Data Analyst by the end of this year!\n",
      "i will be employed as a Data Analyst by the end of this year!\n",
      "i will be employed as a Data Analyst by the end of this year!\n",
      "i will be employed as a Data Analyst by the end of this year!\n",
      "i will be employed as a Data Analyst by the end of this year!\n",
      "i will be employed as a Data Analyst by the end of this year!\n",
      "i will be employed as a Data Analyst by the end of this year!\n",
      "\n"
     ]
    }
   ],
   "source": [
    "o = 'i will be employed as a Data Analyst by the end of this year!\\n'\n",
    "print(o*100)"
   ]
  }
 ],
 "metadata": {
  "kernelspec": {
   "display_name": "Python 3 (ipykernel)",
   "language": "python",
   "name": "python3"
  },
  "language_info": {
   "codemirror_mode": {
    "name": "ipython",
    "version": 3
   },
   "file_extension": ".py",
   "mimetype": "text/x-python",
   "name": "python",
   "nbconvert_exporter": "python",
   "pygments_lexer": "ipython3",
   "version": "3.11.5"
  }
 },
 "nbformat": 4,
 "nbformat_minor": 5
}
