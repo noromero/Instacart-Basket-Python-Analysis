{
 "cells": [
  {
   "cell_type": "markdown",
   "id": "9a455ed4",
   "metadata": {},
   "source": [
    "# Table of Contents\n",
    "\n",
    "- Creation of two new columns, \"price_label\" and \"busiest_day\"\n",
    "\n",
    "- Creation of \"busiest_day_new\" column to reflect new conditions\n",
    "\n",
    "- Creation of \"busiest_period_of_day\" column based off Most, Average, and Fewest orders "
   ]
  },
  {
   "cell_type": "markdown",
   "id": "15da6444",
   "metadata": {},
   "source": [
    "## Step 1\n",
    "\n",
    "1. If you haven’t done so already, complete the instructions in the Exercise for creating the “price_label” and “busiest_day” columns."
   ]
  },
  {
   "cell_type": "code",
   "execution_count": 1,
   "id": "937a04aa",
   "metadata": {},
   "outputs": [],
   "source": [
    "# importing libraries\n",
    "import pandas as pd\n",
    "import numpy as np\n",
    "import os\n",
    "\n",
    "# setting master path\n",
    "path = r'/Users/Norberto/Desktop/2023-10 Instacart Basket Analysis'"
   ]
  },
  {
   "cell_type": "code",
   "execution_count": 2,
   "id": "89aee17c",
   "metadata": {},
   "outputs": [],
   "source": [
    "# read pkl files\n",
    "ords_prods_merge = pd.read_pickle(os.path.join(path, '02 Data', 'Prepared Data', 'orders_products_merged.pkl'))"
   ]
  },
  {
   "cell_type": "markdown",
   "id": "933eff18",
   "metadata": {},
   "source": [
    "#### Creating \"price_label_loc\" column"
   ]
  },
  {
   "cell_type": "code",
   "execution_count": 3,
   "id": "e0d7dacc",
   "metadata": {},
   "outputs": [],
   "source": [
    "# search price column and set price_range_loc column value if high-range product\n",
    "ords_prods_merge.loc[ords_prods_merge['prices'] > 15, 'price_range_loc'] = 'High-range product'"
   ]
  },
  {
   "cell_type": "code",
   "execution_count": 4,
   "id": "989e9aa9",
   "metadata": {},
   "outputs": [],
   "source": [
    "# search price column and set price_range_loc column value if mid-range product\n",
    "ords_prods_merge.loc[(ords_prods_merge['prices'] <= 15) & (ords_prods_merge['prices'] > 5), 'price_range_loc'] = 'Mid-range product' "
   ]
  },
  {
   "cell_type": "code",
   "execution_count": 5,
   "id": "72ac8ee2",
   "metadata": {},
   "outputs": [],
   "source": [
    "# search price column and set price_range_loc column value if low-range product\n",
    "ords_prods_merge.loc[ords_prods_merge['prices'] <= 5, 'price_range_loc'] = 'Low-range product'"
   ]
  },
  {
   "cell_type": "code",
   "execution_count": 6,
   "id": "f7471343",
   "metadata": {},
   "outputs": [
    {
     "data": {
      "text/plain": [
       "price_range_loc\n",
       "Mid-range product     21860860\n",
       "Low-range product     10126321\n",
       "High-range product      417678\n",
       "NaN                      30200\n",
       "Name: count, dtype: int64"
      ]
     },
     "execution_count": 6,
     "metadata": {},
     "output_type": "execute_result"
    }
   ],
   "source": [
    "# inspect the price_range_loc column values\n",
    "ords_prods_merge['price_range_loc'].value_counts(dropna=False)"
   ]
  },
  {
   "cell_type": "markdown",
   "id": "cfbbefb7",
   "metadata": {},
   "source": [
    "#### Creating \"busiest_day\" column"
   ]
  },
  {
   "cell_type": "code",
   "execution_count": 7,
   "id": "452995d8",
   "metadata": {},
   "outputs": [
    {
     "data": {
      "text/plain": [
       "orders_day_of_week\n",
       "0    6209808\n",
       "1    5665951\n",
       "6    4500391\n",
       "2    4217868\n",
       "5    4209603\n",
       "3    3844175\n",
       "4    3787263\n",
       "Name: count, dtype: int64"
      ]
     },
     "execution_count": 7,
     "metadata": {},
     "output_type": "execute_result"
    }
   ],
   "source": [
    "ords_prods_merge['orders_day_of_week'].value_counts(dropna=False)"
   ]
  },
  {
   "cell_type": "code",
   "execution_count": 8,
   "id": "57ab3b65",
   "metadata": {},
   "outputs": [],
   "source": [
    "# create empty list to store values from for-loop\n",
    "orders_dow_list = []\n",
    "\n",
    "# iterate over orders_dow column in df and add values to empty list.\n",
    "for value in ords_prods_merge['orders_day_of_week']:\n",
    "# if dow is Saturday/0 label busiest day\n",
    "  if value == 0:\n",
    "    orders_dow_list.append('Busiest day')\n",
    "# if dow is Wednesday/4 label lest busy\n",
    "  elif value == 4:\n",
    "    orders_dow_list.append('Least busy')\n",
    "# all other values labeled regularly busy\n",
    "  else:\n",
    "    orders_dow_list.append('Regularly busy')"
   ]
  },
  {
   "cell_type": "code",
   "execution_count": 9,
   "id": "60a9cee5",
   "metadata": {},
   "outputs": [
    {
     "data": {
      "text/plain": [
       "busiest_day\n",
       "Regularly busy    22437988\n",
       "Busiest day        6209808\n",
       "Least busy         3787263\n",
       "Name: count, dtype: int64"
      ]
     },
     "execution_count": 9,
     "metadata": {},
     "output_type": "execute_result"
    }
   ],
   "source": [
    "# assign result list to new column and inspect values\n",
    "ords_prods_merge['busiest_day'] = orders_dow_list\n",
    "ords_prods_merge['busiest_day'].value_counts(dropna=False)"
   ]
  },
  {
   "cell_type": "markdown",
   "id": "9caf63dd",
   "metadata": {},
   "source": [
    "## Steps 2 & 3\n",
    "\n",
    "2. Suppose your clients have changed their minds about the labels you created in your “busiest_day” column. Now, they want “Busiest day” to become “Busiest days” (plural). This label should correspond with the two busiest days of the week as opposed to the single busiest day. At the same time, they’d also like to know the two slowest days. Create a new column for this using a suitable method.\n",
    "\n",
    "3. Check the values of this new column for accuracy. Note any observations in markdown format."
   ]
  },
  {
   "cell_type": "code",
   "execution_count": 10,
   "id": "451a64c0",
   "metadata": {},
   "outputs": [],
   "source": [
    "# create empty list to store values from for-loop\n",
    "orders_dow_list_new = []\n",
    "\n",
    "# iterate over orders_dow column in df and add values to empty list.\n",
    "for value in ords_prods_merge['orders_day_of_week']:\n",
    "# if dow is Saturday/0 label busiest day\n",
    "  if value in (0,1):\n",
    "    orders_dow_list_new.append('Busiest days')\n",
    "# if dow is Wednesday/4 label lest busy\n",
    "  elif value in (4,3):\n",
    "    orders_dow_list_new.append('Least busy')\n",
    "# all other values labeled regularly busy\n",
    "  else:\n",
    "    orders_dow_list_new.append('Regularly busy')"
   ]
  },
  {
   "cell_type": "code",
   "execution_count": 11,
   "id": "86064e92",
   "metadata": {},
   "outputs": [
    {
     "data": {
      "text/plain": [
       "busiest_day_new\n",
       "Regularly busy    12927862\n",
       "Busiest days      11875759\n",
       "Least busy         7631438\n",
       "Name: count, dtype: int64"
      ]
     },
     "execution_count": 11,
     "metadata": {},
     "output_type": "execute_result"
    }
   ],
   "source": [
    "# assign result list to new column and inspect values\n",
    "ords_prods_merge['busiest_day_new'] = orders_dow_list_new\n",
    "ords_prods_merge['busiest_day_new'].value_counts(dropna=False)"
   ]
  },
  {
   "cell_type": "markdown",
   "id": "0d57fc40",
   "metadata": {},
   "source": [
    "The number of regularly busy days decreased as more conditions were presented to capture the values in the orders_dow column."
   ]
  },
  {
   "cell_type": "markdown",
   "id": "64f915a9",
   "metadata": {},
   "source": [
    "## Steps 4 & 5\n",
    "\n",
    "4. When too many users make Instacart orders at the same time, the app freezes. The senior technical officer at Instacart wants you to identify the busiest hours of the day. Rather than by hour, they want periods of time labeled “Most orders,” “Average orders,”and “Fewest orders.” Create a new column containing these labels called “busiest_period_of_day.”\n",
    "\n",
    "5. Print the frequency for this new column.\n"
   ]
  },
  {
   "cell_type": "code",
   "execution_count": 12,
   "id": "f0f56a80",
   "metadata": {},
   "outputs": [
    {
     "data": {
      "text/plain": [
       "order_hour_of_day\n",
       "10    2764476\n",
       "11    2738647\n",
       "14    2691598\n",
       "15    2664583\n",
       "13    2663346\n",
       "12    2620898\n",
       "16    2537506\n",
       "9     2456751\n",
       "17    2089510\n",
       "8     1719991\n",
       "18    1637956\n",
       "19    1259416\n",
       "20     977049\n",
       "7      891951\n",
       "21     796379\n",
       "22     634743\n",
       "23     402621\n",
       "6      290796\n",
       "0      218951\n",
       "1      115787\n",
       "5       88064\n",
       "2       69435\n",
       "4       53284\n",
       "3       51321\n",
       "Name: count, dtype: int64"
      ]
     },
     "execution_count": 12,
     "metadata": {},
     "output_type": "execute_result"
    }
   ],
   "source": [
    "# list value counts for different hours of the day\n",
    "ords_prods_merge['order_hour_of_day'].value_counts(dropna=False)"
   ]
  },
  {
   "cell_type": "code",
   "execution_count": 13,
   "id": "1b047f36",
   "metadata": {},
   "outputs": [],
   "source": [
    "# create empty list to store values from for-loop\n",
    "orders_hod_list = []\n",
    "\n",
    "# iterate over orders_dow column in df and add values to empty list.\n",
    "for value in ords_prods_merge['order_hour_of_day']:\n",
    "# if H.O.D. is in list label most orders\n",
    "  if value in (10,11,14,15,13,12,16,9):\n",
    "    orders_hod_list.append('Most orders')\n",
    "# if H.O.D. is in list label average orders\n",
    "  elif value in (17,8,18,19,20,7,21,22) :\n",
    "    orders_hod_list.append('Average orders')\n",
    "# if H.O.D. is in list label fewest orders\n",
    "  elif value in (23,6,0,1,5,2,4,3):\n",
    "    orders_hod_list.append('Fewest orders')\n",
    "# if H.O.D. is not in any list, label time unavailable\n",
    "  else:\n",
    "    orders_hod_list.append('Time Unavailable')"
   ]
  },
  {
   "cell_type": "code",
   "execution_count": 14,
   "id": "4e60a7c3",
   "metadata": {},
   "outputs": [
    {
     "data": {
      "text/plain": [
       "busiest_period_of_day\n",
       "Most orders       21137805\n",
       "Average orders    10006995\n",
       "Fewest orders      1290259\n",
       "Name: count, dtype: int64"
      ]
     },
     "execution_count": 14,
     "metadata": {},
     "output_type": "execute_result"
    }
   ],
   "source": [
    "# assign result list to new column and inspect values\n",
    "ords_prods_merge['busiest_period_of_day'] = orders_hod_list\n",
    "ords_prods_merge['busiest_period_of_day'].value_counts(dropna=False)"
   ]
  },
  {
   "cell_type": "code",
   "execution_count": 15,
   "id": "cb2ecba8",
   "metadata": {},
   "outputs": [],
   "source": [
    "# Exporting left merge to pkl since it is the most comprehensive data set\n",
    "ords_prods_merge.to_pickle(os.path.join(path, '02 Data','Prepared Data', 'orders_products_merged_4.7.pkl'))"
   ]
  }
 ],
 "metadata": {
  "kernelspec": {
   "display_name": "Python 3 (ipykernel)",
   "language": "python",
   "name": "python3"
  },
  "language_info": {
   "codemirror_mode": {
    "name": "ipython",
    "version": 3
   },
   "file_extension": ".py",
   "mimetype": "text/x-python",
   "name": "python",
   "nbconvert_exporter": "python",
   "pygments_lexer": "ipython3",
   "version": "3.11.5"
  }
 },
 "nbformat": 4,
 "nbformat_minor": 5
}
